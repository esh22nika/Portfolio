{
 "cells": [
  {
   "cell_type": "code",
   "execution_count": 1,
   "id": "d63c98a0-8afb-4393-bdda-ffe79535f094",
   "metadata": {},
   "outputs": [
    {
     "name": "stdout",
     "output_type": "stream",
     "text": [
      "Eshanika Amballa\n"
     ]
    }
   ],
   "source": [
    "print(\"Eshanika Amballa\")"
   ]
  },
  {
   "cell_type": "code",
   "execution_count": 2,
   "id": "11cc7076-d6c0-4f9a-9b04-e1f5766ec785",
   "metadata": {},
   "outputs": [
    {
     "ename": "ValueError",
     "evalue": "invalid literal for int() with base 10: 'a'",
     "output_type": "error",
     "traceback": [
      "\u001b[1;31m---------------------------------------------------------------------------\u001b[0m",
      "\u001b[1;31mValueError\u001b[0m                                Traceback (most recent call last)",
      "Cell \u001b[1;32mIn[2], line 1\u001b[0m\n\u001b[1;32m----> 1\u001b[0m l\u001b[38;5;241m=\u001b[39m\u001b[38;5;28mint\u001b[39m(\u001b[38;5;124m'\u001b[39m\u001b[38;5;124ma\u001b[39m\u001b[38;5;124m'\u001b[39m)\n\u001b[0;32m      2\u001b[0m \u001b[38;5;28mprint\u001b[39m(l)\n",
      "\u001b[1;31mValueError\u001b[0m: invalid literal for int() with base 10: 'a'"
     ]
    }
   ],
   "source": [
    "l=int('a')\n",
    "print(l)"
   ]
  },
  {
   "cell_type": "code",
   "execution_count": 2,
   "id": "c1e7addf-8929-4174-ae3b-e950a20c20e9",
   "metadata": {},
   "outputs": [
    {
     "name": "stdout",
     "output_type": "stream",
     "text": [
      "<class 'int'>\n",
      "<class 'float'>\n",
      "<class 'str'>\n"
     ]
    }
   ],
   "source": [
    "a=1\n",
    "b=1.0\n",
    "c=\"1\"\n",
    "print(type(a))\n",
    "print(type(b))\n",
    "print(type(c))"
   ]
  },
  {
   "cell_type": "code",
   "execution_count": 8,
   "id": "fe598c96-dca6-42bd-aaa0-896eb9c6c0a8",
   "metadata": {},
   "outputs": [
    {
     "name": "stdout",
     "output_type": "stream",
     "text": [
      "Eshanika Amballa\n"
     ]
    }
   ],
   "source": [
    "#0!=False\n",
    "#1!=True\n",
    "#python automatically handles storange and garbage collection\n",
    "fname=\"Eshanika\"\n",
    "lname=\"Amballa\"\n",
    "print(\"{} {}\".format(fname,lname)) #string formatting using injection\n"
   ]
  },
  {
   "cell_type": "code",
   "execution_count": 11,
   "id": "5e91c52c-d1e5-414e-82e0-499b81f43447",
   "metadata": {},
   "outputs": [
    {
     "name": "stdout",
     "output_type": "stream",
     "text": [
      "Name = Eshanika\n"
     ]
    }
   ],
   "source": [
    "#f strings\n",
    "name=\"Eshanika\"\n",
    "print(f\"Name = {name}\") #%s is from outdated frm python 2 dont use it\n",
    "#stick to .format() for this course\n",
    "#fstring is advance"
   ]
  },
  {
   "cell_type": "code",
   "execution_count": 5,
   "id": "6d271620-30c9-4f7d-8717-0f3967980162",
   "metadata": {},
   "outputs": [
    {
     "name": "stdout",
     "output_type": "stream",
     "text": [
      "3 * 10 = 30\n"
     ]
    }
   ],
   "source": [
    "'''\n",
    "Variable Output: \n",
    "Store the value 3 in a variable called “x” and the value 10 in a variable called “y”.\n",
    "Save the result of x * y into a separate variable called “result”. Finally, output the information so it shows like the following:\n",
    "'''\n",
    "x=3\n",
    "y=10\n",
    "result=x*y\n",
    "print(x,\"*\",y,\"=\",result) #print(str(x)+\" * \"+str(y)+\" = \"+str(result))"
   ]
  },
  {
   "cell_type": "code",
   "execution_count": 7,
   "id": "fca4ea1d-e3bd-4987-b12b-e0c61216f590",
   "metadata": {},
   "outputs": [
    {
     "name": "stdout",
     "output_type": "stream",
     "text": [
      "Area= 3599.6164\n"
     ]
    }
   ],
   "source": [
    "'''\n",
    "Area Calculation: Calculate the area of a 245.54” x 13.66” rectangle. \n",
    "Print out the result. HINT: Area is width multiplied by height.\n",
    "'''\n",
    "l=245.54\n",
    "b=14.66\n",
    "area=l*b\n",
    "print(\"Area=\",area) #tableau for ds--> power BI microsoft\n",
    "#TCS wings?\n",
    "#python 2 print stmts didnt have parenthesis\n",
    "#diff bw python 2 and 3"
   ]
  },
  {
   "cell_type": "code",
   "execution_count": 13,
   "id": "d1af0770-66a2-416c-960c-128b3fea66c3",
   "metadata": {},
   "outputs": [
    {
     "name": "stdout",
     "output_type": "stream",
     "text": [
      "L n\n"
     ]
    }
   ],
   "source": [
    "# string as list\n",
    "x=\"Lemon\"\n",
    "print(x[0],x[4]) #used in NLP"
   ]
  },
  {
   "cell_type": "code",
   "execution_count": 16,
   "id": "b6fd1194-22f2-4730-9687-4a121ce95f29",
   "metadata": {},
   "outputs": [
    {
     "name": "stdout",
     "output_type": "stream",
     "text": [
      "yabmoB\n"
     ]
    }
   ],
   "source": [
    "#print reverse string\n",
    "a=\"Bombay\"\n",
    "print(a[::-1])"
   ]
  },
  {
   "cell_type": "code",
   "execution_count": 1,
   "id": "f4cc5d3f-1485-41e1-9c55-fa16c4767d68",
   "metadata": {},
   "outputs": [],
   "source": [
    "import pandas as pd\n",
    "import numpy as np\n",
    "import matplotlib as plt\n"
   ]
  },
  {
   "cell_type": "code",
   "execution_count": 6,
   "id": "6ae785fd-d8c0-47e6-b08f-5f9511a21e91",
   "metadata": {},
   "outputs": [
    {
     "name": "stdin",
     "output_type": "stream",
     "text": [
      "which term do you want (positive int only): 0\n"
     ]
    },
    {
     "name": "stdout",
     "output_type": "stream",
     "text": [
      "invalid input\n"
     ]
    }
   ],
   "source": [
    "#assuming the series starts with 1,1,2... instead of 0,1,1..\n",
    "#nth term of fibonacci series\n",
    "n=int(input(\"which term do you want (positive int only):\"))  \n",
    "if (n==1) or (n==2):\n",
    "    print(\"the required term is\",1)\n",
    "elif (n<1):\n",
    "    print(\"invalid input\")\n",
    "else:\n",
    "    t1,t2=1,1\n",
    "    for i in range(2,n):\n",
    "        t3=t1+t2\n",
    "        t1,t2=t2,t3\n",
    "    print(\"the required term is\",t3)\n",
    "    "
   ]
  },
  {
   "cell_type": "code",
   "execution_count": null,
   "id": "0086edee-522f-4a1d-a262-fc118f2e4563",
   "metadata": {},
   "outputs": [],
   "source": [
    "s=[\"cricket\",\"\"]"
   ]
  },
  {
   "cell_type": "code",
   "execution_count": 20,
   "id": "6b920cf0-cbfe-4498-b74d-dc3333ca3d65",
   "metadata": {},
   "outputs": [
    {
     "name": "stdin",
     "output_type": "stream",
     "text": [
      "enter your message: Sourpuss\n",
      "enter your key: 2\n"
     ]
    },
    {
     "name": "stdout",
     "output_type": "stream",
     "text": [
      "Uqwtrwuu\n"
     ]
    }
   ],
   "source": [
    "#caeser cypher\n",
    "s=input(\"enter your message:\")\n",
    "key=int(input(\"enter your key:\"))\n",
    "for i in s:\n",
    "    if (i.isupper()):\n",
    "        b=chr((ord(i) + key-ord('A')) % 26 + ord('A')) #using modulo arithmetic to make it wrap around\n",
    "    else:\n",
    "        b=chr((ord(i) + key-ord('a')) % 26 + ord('a'))\n",
    "    s=s.replace(i,b)\n",
    "print(\"encoded message:\",s)\n",
    "    "
   ]
  },
  {
   "cell_type": "code",
   "execution_count": 32,
   "id": "732126d1-00fa-4c92-96e5-1b04064991e9",
   "metadata": {},
   "outputs": [
    {
     "name": "stdin",
     "output_type": "stream",
     "text": [
      "enter a name: Eshanika\n"
     ]
    },
    {
     "name": "stdout",
     "output_type": "stream",
     "text": [
      "68\n"
     ]
    }
   ],
   "source": [
    "#numerology\n",
    "s=input(\"enter a name:\")\n",
    "sum=0\n",
    "for i in s:\n",
    "    ch=i.lower()\n",
    "    sum+=(ord(ch)+1)%ord('a')\n",
    "print(sum)"
   ]
  },
  {
   "cell_type": "code",
   "execution_count": 1,
   "id": "38c9aa62-d7fc-4789-9dde-8578607709e0",
   "metadata": {},
   "outputs": [
    {
     "name": "stdout",
     "output_type": "stream",
     "text": [
      "Capsicum\tOnions\tCottage Cheese\t\n",
      "Mushrooms\tTomatoes\t\n",
      "Tomatoes\tCapsicum\tCottage Cheese\tMushrooms\tOnions\t\n"
     ]
    }
   ],
   "source": [
    "def pizzaToppings(toppings={\"Onions\",\"Capsicum\",\"Cottage Cheese\"}):\n",
    "    for x in toppings:\n",
    "        print(f\"{x}\\t\",end=\"\")\n",
    "    print()\n",
    "pizzaToppings()\n",
    "pizzaToppings({\"Tomatoes\",\"Mushrooms\"})\n",
    "pizzaToppings({\"Onions\",\"Capsicum\",\"Cottage Cheese\",\"Tomatoes\",\"Mushrooms\"})"
   ]
  },
  {
   "cell_type": "code",
   "execution_count": null,
   "id": "5e9a74b2-337b-4104-8ea4-181a51e88e89",
   "metadata": {},
   "outputs": [],
   "source": []
  }
 ],
 "metadata": {
  "kernelspec": {
   "display_name": "Python 3 (ipykernel)",
   "language": "python",
   "name": "python3"
  },
  "language_info": {
   "codemirror_mode": {
    "name": "ipython",
    "version": 3
   },
   "file_extension": ".py",
   "mimetype": "text/x-python",
   "name": "python",
   "nbconvert_exporter": "python",
   "pygments_lexer": "ipython3",
   "version": "3.11.7"
  }
 },
 "nbformat": 4,
 "nbformat_minor": 5
}
